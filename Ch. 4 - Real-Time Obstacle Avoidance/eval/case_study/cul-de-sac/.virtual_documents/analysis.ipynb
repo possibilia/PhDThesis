import json
import pandas as pd
import numpy as np
import matplotlib.pyplot as plt
import seaborn as sns; sns.set()
import researchpy as rp

import warnings
warnings.filterwarnings('ignore')

from scipy import stats
import statsmodels.api as sm
import scikit_posthocs as sp
import statsmodels.formula.api as smf
from matplotlib import image as mpimg
import matplotlib 

from PIL import Image
from IPython.display import display

cutoff = 290

with open('config.json') as infile:
    config = json.load(infile)
    
repo = config['laptop']

def cohen_d(d1, d2):
    n1, n2 = len(d1), len(d2)
    s1, s2 = np.var(d1, ddof=1), np.var(d2, ddof=1)
    s = np.sqrt(((n1 - 1) * s1 + (n2 - 1) * s2) / (n1 + n2 - 2))
    u1, u2 = np.mean(d1), np.mean(d2)
    print('Effect size d: {}'.format((u1 - u2) / s))





df = pd.read_csv('FMAS2024_DATA.csv', header=[0], index_col=[0])
df.position = df.position.apply(lambda x: {0:'centre', 2: 'left', 1: 'right'}[x])
print(df.head())





df_traj = df[['method', 'position', 'traj_length']]
df_traj.info()


df_traj.shape





fig, ax = plt.subplots(1, 1, figsize=(10, 7))
sns.pointplot(data=df_traj, x='method', y='traj_length')
plt.show()


print(df.groupby(by='method').traj_length.describe().T)


single = df_traj[df_traj.method == 'single']
multi = df_traj[df_traj.method == 'multi']

plt.figure(figsize=(10, 7))
single.traj_length.hist(label='single', bins=5)
multi.traj_length.hist(label='multi', bins=5)
plt.legend()
plt.show()








fig, ax = plt.subplots(1, 2, figsize= (15, 7))
stats.probplot(single.traj_length, plot=ax[0], rvalue=True)
ax[0].set_title('single', fontsize=12)
stats.probplot(multi.traj_length, plot=ax[1], rvalue=True)
ax[1].set_title('multi', fontsize=12)
plt.show()


def normal_plot(variable):
    variable = variable.copy()
    variable.values.sort()
    mean, std = stats.norm.fit(variable, loc=0)
    pdf_norm = stats.norm.pdf(variable, mean, std)

    fig, ax = plt.subplots(figsize=(10, 7))
    ax.hist(variable, bins='auto', density=True)
    ax.plot(variable, pdf_norm, label='Fitted normal distribution')
    ax.legend()
    
normal_plot(single.traj_length)


def normal_test_battery(sample):
    stat, p = stats.shapiro(sample)
    if p < 0.05:
        print('Shapiro-Wilk s={:.3f} p={:.3f}, data does not look normal (reject H0)'.format(stat, p))
    else:
        print('Shapiro-Wilk s={:.3f} p={:.3f}, data looks normal (accept H0)'.format(stat, p))

    try:
        stat, p = stats.normaltest(sample)
        if p < 0.05:
            print('D’Agostino K^2 s={:.3f} p={:.3f}, data does not look normal (reject H0)'.format(stat, p))
        else:
            print('D’Agostino K^2 s={:.3f} p={:.3f}, data looks normal (accept H0)'.format(stat, p))
    except ValueError:
        pass
    
    result = stats.anderson(sample)
    print('\nAnderson-Darling s={}'.format(result.statistic))
    for i in range(len(result.critical_values)):
        sl, cv = result.significance_level[i], result.critical_values[i]
        if result.statistic < result.critical_values[i]:
            print('{:.3f}: {:.3f}, data looks normal (accept H0)'.format(sl, cv))
        else:
            print('{:.3f}: {:.3f}, data does not look normal (reject H0)'.format(sl, cv))
            
normal_test_battery(single.traj_length)


normal_plot(multi.traj_length)


normal_test_battery(multi.traj_length)








fig, ax = plt.subplots(1, 1, figsize=(10, 7))
sns.boxplot(data=df_traj, x='method', y='traj_length')
ax.set_ylabel('Trajectory Length [pixels]', fontsize=18*1.3, labelpad=20)
ax.set_xlabel('', fontsize=18*1.3, labelpad=20)
ax.set_xticklabels(['Baseline', 'Model Checking'], fontsize=14*1.3)
plt.savefig('method.png', transparent=False)
plt.show()


single_ = sp.outliers_iqr(df_traj[df_traj.method == 'single'].traj_length)
multi_ = sp.outliers_iqr(df_traj[df_traj.method == 'multi'].traj_length)
print('single: {}  multi: {}'.format(len(single_), len(multi_)))


single_outliers = sp.outliers_iqr(df_traj[df_traj.method == 'single'].traj_length, ret='outliers')
multi_outliers = sp.outliers_iqr(df_traj[df_traj.method == 'multi'].traj_length, ret='outliers')
single_outliers


multi_outliers


print(single[single.traj_length > 2000])





print(multi[multi.traj_length < 500])


print(multi.traj_length.describe())


IQR = 918.44 - 763.13
763.13 - 1.5 * IQR











stats.levene(single.traj_length, multi.traj_length, center='median')


print(single.traj_length.std(), multi.traj_length.std(), sep=', ')





print(stats.pearsonr(multi.traj_length, single.traj_length))





print(stats.mannwhitneyu(multi.traj_length, single.traj_length, alternative='less'))


df_traj['rank'] = df_traj.traj_length.rank(method='min').values
single_ranked = df_traj[df_traj.method == 'single']
multi_ranked = df_traj[df_traj.method == 'multi']

def mannwhitney_stats(sample1, sample2):
    n1, n2 = len(sample1), len(sample2)
    T1 = sample1.sum()
    print('Sum of ranks sample 1: {}'.format(T1))
    print('Mean rank sample 1: {}'.format(T1/n1))
    U1 = n1 * n2 + (n1 * (n1 + 1) / 2) - T1
    print('U sample 1: {}'.format(U1))
    print()
    T2 = sample2.sum()
    print('Sum of ranks sample 2: {}'.format(T2))
    print('Mean rank sample 2: {}'.format(T2/n2))
    U2 = n1 * n2 + (n2 * (n2 + 1) / 2) - T2
    print('U sample 2: {}'.format(U2))
    print()
    U = min([U1, U2])
    print('Test stat U: {}'.format(U))
    mU = n1 * n2 / 2
    print('Expected value of U: {}'.format(mU))
    sigU = np.sqrt((n1 * n2 * (n1 + n2 + 1)) / 2)
    print('Standard error of U: {}'.format(sigU))
    z = (U - mU) / sigU
    print('z-value: {}'.format(z))
    r = abs(z) / np.sqrt(n1)
    print('Effect size r={}'.format(r))
    
mannwhitney_stats(single_ranked['rank'], multi_ranked['rank'])


def statistic(x, y, axis=0):
    return np.median(x, axis=axis) - np.median(y, axis=axis)

result = stats.permutation_test((single.traj_length.values, multi.traj_length.values), 
                                 statistic=statistic, n_resamples=100000, alternative='greater')

reference = statistic(single.traj_length.values, multi.traj_length.values)
plt.hist(result.null_distribution, bins=10)
plt.axvline(reference, color='red')
print('Permutation test pvalue={}'.format(result.pvalue))


def statistic(x, y, axis=0):
    return np.mean(x, axis=axis) - np.mean(y, axis=axis)

result = stats.permutation_test((single.traj_length.values, multi.traj_length.values), 
                                 statistic=statistic, n_resamples=100000, alternative='greater')

reference = statistic(single.traj_length.values, multi.traj_length.values)
plt.hist(result.null_distribution, bins=10)
plt.axvline(reference, color='red')
print('Permutation test pvalue={}'.format(result.pvalue))





fig, ax = plt.subplots(1, 1, figsize=(10, 7))
sns.pointplot(data=df_traj, x='position', y='traj_length')
plt.show()


fig, ax = plt.subplots(1, 3, figsize= (15, 7))
stats.probplot(df_traj[df_traj.position == 'centre'].traj_length, plot=ax[0], rvalue=True)
ax[0].set_title('centre', fontsize=12)
stats.probplot(df_traj[df_traj.position == 'left'].traj_length, plot=ax[1], rvalue=True)
ax[1].set_title('left', fontsize=12)
stats.probplot(df_traj[df_traj.position == 'right'].traj_length, plot=ax[2], rvalue=True)
ax[2].set_title('right', fontsize=12)


normal_plot(df_traj[df_traj.position == 'centre'].traj_length)


normal_test_battery(df_traj[df_traj.position == 'centre'].traj_length)


normal_plot(df_traj[df_traj.position == 'left'].traj_length)


normal_test_battery(df_traj[df_traj.position == 'left'].traj_length)


normal_plot(df_traj[df_traj.position == 'right'].traj_length)


normal_test_battery(df_traj[df_traj.position == 'right'].traj_length)


df_corr = pd.DataFrame()

for n, g in df_traj.groupby(by='position'):
    df_corr[n] = g.traj_length.values
    
print(rp.corr_pair(df_corr))


print(stats.kruskal(df_traj[df_traj.position == 'centre'].traj_length,
                    df_traj[df_traj.position == 'left'].traj_length,
                    df_traj[df_traj.position == 'right'].traj_length))





fig, ax = plt.subplots(1, 1, figsize=(10, 7))
sns.pointplot(data=df_traj, x='position', y='traj_length', hue='method')
plt.show()





fig, ax = plt.subplots(2, 3, figsize= (15, 12))
stats.probplot(single[single.position == 'centre'].traj_length, plot=ax[0, 0], rvalue=True)
ax[0, 0].set_title('single:centre', fontsize=12)
stats.probplot(single[single.position == 'left'].traj_length, plot=ax[0, 1], rvalue=True)
ax[0, 1].set_title('single:left', fontsize=12)
stats.probplot(single[single.position == 'right'].traj_length, plot=ax[0, 2], rvalue=True)
ax[0, 2].set_title('single:right', fontsize=12)
stats.probplot(multi[multi.position == 'centre'].traj_length, plot=ax[1, 0], rvalue=True)
ax[1, 0].set_title('multi:centre', fontsize=12)
stats.probplot(multi[multi.position == 'left'].traj_length, plot=ax[1, 1], rvalue=True)
ax[1, 1].set_title('multi:left', fontsize=12)
stats.probplot(multi[multi.position == 'right'].traj_length, plot=ax[1, 2], rvalue=True)
ax[1, 2].set_title('multi:right', fontsize=12)


normal_plot(single[single.position == 'centre'].traj_length)


normal_test_battery(single[single.position == 'centre'].traj_length)


normal_plot(single[single.position == 'left'].traj_length)


normal_test_battery(single[single.position == 'left'].traj_length)


normal_plot(single[single.position == 'right'].traj_length)


normal_test_battery(single[single.position == 'right'].traj_length)


normal_plot(multi[multi.position == 'centre'].traj_length)


normal_test_battery(multi[multi.position == 'centre'].traj_length)


normal_plot(multi[multi.position == 'left'].traj_length)


normal_test_battery(multi[multi.position == 'left'].traj_length)


normal_plot(multi[multi.position == 'right'].traj_length)


normal_test_battery(multi[multi.position == 'right'].traj_length)


df_corr = pd.DataFrame()

for n, g in single.groupby(by='position'):
    df_corr[n] = g.traj_length.values
    
print(rp.corr_pair(df_corr))


df_corr = pd.DataFrame()

for n, g in multi.groupby(by='position'):
    df_corr[n] = g.traj_length.values
    
print(rp.corr_pair(df_corr))





print(stats.levene(single[single.position == 'centre'].traj_length,
                   single[single.position == 'left'].traj_length,
                   single[single.position == 'right'].traj_length))


print(single.groupby(by='position').traj_length.describe().T)





print(stats.kruskal(single[single.position == 'centre'].traj_length,
                    single[single.position == 'left'].traj_length,
                    single[single.position == 'right'].traj_length))


print(sp.posthoc_dunn(single, val_col='traj_length', group_col='position', p_adjust='bonferroni'))





print(stats.levene(multi[multi.position == 'centre'].traj_length,
                   multi[multi.position == 'left'].traj_length,
                   multi[multi.position == 'right'].traj_length))


print(multi.groupby(by='position').traj_length.describe().T)





print(stats.kruskal(multi[multi.position == 'centre'].traj_length,
                    multi[multi.position == 'left'].traj_length,
                    multi[multi.position == 'right'].traj_length))


print(sp.posthoc_dunn(multi, val_col='traj_length', group_col='position', p_adjust='bonferroni'))


fig, ax = plt.subplots(1, 1, figsize=(10, 7))
sns.boxplot(data=single, x='position', y='traj_length', order=['left', 'centre', 'right'])
ax.set_ylabel('Trajectory Length [pixels]', fontsize=18*2, labelpad=20)
ax.set_xlabel('', fontsize=18*2, labelpad=20)
ax.set_xticklabels(['Left', 'Centre', 'Right'], fontsize=14*2)
plt.savefig('single_position.png')
plt.show()


fig, ax = plt.subplots(1, 1, figsize=(10, 7))
sns.boxplot(data=multi, x='position', y='traj_length', order=['left', 'centre', 'right'])
ax.set_ylabel('Trajectory Length [pixels]', fontsize=18*2, labelpad=20)
ax.set_xlabel('', fontsize=18*2, labelpad=20)
ax.set_xticklabels(['Left', 'Centre', 'Right'], fontsize=14*2)
plt.savefig('multi_position.png')
plt.show()





centre = df_traj[df_traj.position == 'centre']
left = df_traj[df_traj.position == 'left']
right = df_traj[df_traj.position == 'right']

fig, ax = plt.subplots(1, 3, figsize=(15, 7))
sns.pointplot(data=centre, x='method', y='traj_length', ax=ax[0])
sns.pointplot(data=left, x='method', y='traj_length', ax=ax[1])
sns.pointplot(data=right, x='method', y='traj_length', ax=ax[2])

ax[0].set_title('centre')
ax[1].set_title('left')
ax[2].set_title('right')

plt.show()





print(stats.levene(centre[centre.method == 'single'].traj_length,
                   centre[centre.method == 'multi'].traj_length))


print(centre.groupby(by='method').describe().T)


fig, ax = plt.subplots(1, 1, figsize=(10, 7))
sns.boxplot(data=centre, x='method', y='traj_length')
ax.set_ylabel('Trajectory Length [pixels]', fontsize=18*2, labelpad=20)
ax.set_xlabel('', fontsize=18*2, labelpad=20)
ax.set_xticklabels(['Baseline', 'Model checking'], fontsize=14*2)
plt.savefig('centre.png')
plt.show()


plt.figure(figsize=(10, 7))
centre[centre.method == 'single'].traj_length.hist(label='single', bins=5)
centre[centre.method == 'multi'].traj_length.hist(label='multi', bins=5)
plt.legend()
plt.show()





stats.mannwhitneyu(centre[centre.method == 'multi'].traj_length,
                   centre[centre.method == 'single'].traj_length, alternative='less')


centre['rank'] = centre.traj_length.rank(method='min').values
single_ranked = centre[centre.method == 'single']
multi_ranked = centre[centre.method == 'multi']

mannwhitney_stats(single_ranked['rank'],
                  multi_ranked['rank'])


def statistic(x, y, axis=0):
    return np.median(x, axis=axis) - np.median(y, axis=axis)

result = stats.permutation_test((centre[centre.method == 'single'].traj_length.values,
                                 centre[centre.method == 'multi'].traj_length.values), 
                                 statistic=statistic, n_resamples=100000, alternative='greater')

reference = statistic(centre[centre.method == 'single'].traj_length.values, 
                      centre[centre.method == 'multi'].traj_length.values)

plt.hist(result.null_distribution, bins=10)
plt.axvline(reference, color='red')
print('Permutation test pvalue={}'.format(result.pvalue))


def statistic(x, y, axis=0):
    return np.mean(x, axis=axis) - np.mean(y, axis=axis)

result = stats.permutation_test((centre[centre.method == 'single'].traj_length.values,
                                 centre[centre.method == 'multi'].traj_length.values), 
                                 statistic=statistic, n_resamples=100000, alternative='greater')

reference = statistic(centre[centre.method == 'single'].traj_length.values, 
                      centre[centre.method == 'multi'].traj_length.values)

plt.hist(result.null_distribution, bins=10)
plt.axvline(reference, color='red')
print('Permutation test pvalue={}'.format(result.pvalue))





print(stats.levene(left[left.method == 'single'].traj_length,
                   left[left.method == 'multi'].traj_length))


print(left.groupby(by='method').describe().T)


fig, ax = plt.subplots(1, 1, figsize=(10, 7))
sns.boxplot(data=left, x='method', y='traj_length')
ax.set_ylabel('Trajectory length', fontsize=18*2, labelpad=20)
ax.set_xlabel('', fontsize=18*2, labelpad=20)
ax.set_xticklabels(['Single control task', 'Model checking'], fontsize=14*2)
plt.savefig('left.png')
plt.show()


plt.figure(figsize=(10, 7))
left[left.method == 'single'].traj_length.hist(label='single', bins=5)
left[left.method == 'multi'].traj_length.hist(label='multi', bins=5)
plt.legend()
plt.show()





print(stats.mannwhitneyu(left[left.method == 'multi'].traj_length,
                         left[left.method == 'single'].traj_length, alternative='less'))


left['rank'] = left.traj_length.rank(method='min').values
single_ranked = left[left.method == 'single']
multi_ranked = left[left.method == 'multi']

mannwhitney_stats(single_ranked['rank'],
                  multi_ranked['rank'])


def statistic(x, y, axis=0):
    return np.median(x, axis=axis) - np.median(y, axis=axis)

result = stats.permutation_test((left[left.method == 'single'].traj_length.values,
                                 left[left.method == 'multi'].traj_length.values), 
                                 statistic=statistic, n_resamples=100000, alternative='greater')

reference = statistic(left[left.method == 'single'].traj_length.values, 
                      left[left.method == 'multi'].traj_length.values)

plt.hist(result.null_distribution, bins=10)
plt.axvline(reference, color='red')
print('Permutation test pvalue={}'.format(result.pvalue))


def statistic(x, y, axis=0):
    return np.mean(x, axis=axis) - np.mean(y, axis=axis)

result = stats.permutation_test((left[left.method == 'single'].traj_length.values,
                                 left[left.method == 'multi'].traj_length.values), 
                                 statistic=statistic, n_resamples=100000, alternative='greater')

reference = statistic(left[left.method == 'single'].traj_length.values, 
                      left[left.method == 'multi'].traj_length.values)

plt.hist(result.null_distribution, bins=10)
plt.axvline(reference, color='red')
print('Permutation test pvalue={}'.format(result.pvalue))





print(stats.levene(right[right.method == 'single'].traj_length,
                   right[right.method == 'multi'].traj_length))


print(right.groupby(by='method').describe().T)


fig, ax = plt.subplots(1, 1, figsize=(10, 7))
sns.boxplot(data=right, x='method', y='traj_length')
ax.set_ylabel('Trajectory length', fontsize=18*2, labelpad=20)
ax.set_xlabel('', fontsize=18*2, labelpad=20)
ax.set_xticklabels(['Single control task', 'Model checking'], fontsize=14*2)
plt.savefig('right.png')
plt.show()


plt.figure(figsize=(10, 7))
right[right.method == 'single'].traj_length.hist(label='single', bins=5)
right[right.method == 'multi'].traj_length.hist(label='multi', bins=5)
plt.legend()
plt.show()





print(stats.mannwhitneyu(right[right.method == 'multi'].traj_length,
                         right[right.method == 'single'].traj_length, alternative='less'))


right['rank'] = right.traj_length.rank(method='min').values
single_ranked = right[right.method == 'single']
multi_ranked = right[right.method == 'multi']

mannwhitney_stats(single_ranked['rank'],
                  multi_ranked['rank'])


def statistic(x, y, axis=0):
    return np.median(x, axis=axis) - np.median(y, axis=axis)

result = stats.permutation_test((right[right.method == 'single'].traj_length.values,
                                 right[right.method == 'multi'].traj_length.values), 
                                 statistic=statistic, n_resamples=100000, alternative='greater')

reference = statistic(right[right.method == 'single'].traj_length.values, 
                      right[right.method == 'multi'].traj_length.values)

plt.hist(result.null_distribution, bins=10)
plt.axvline(reference, color='red')
print('Permutation test pvalue={}'.format(result.pvalue))


def statistic(x, y, axis=0):
    return np.mean(x, axis=axis) - np.mean(y, axis=axis)

result = stats.permutation_test((right[right.method == 'single'].traj_length.values,
                                 right[right.method == 'multi'].traj_length.values), 
                                 statistic=statistic, n_resamples=100000, alternative='greater')

reference = statistic(right[right.method == 'single'].traj_length.values, 
                      right[right.method == 'multi'].traj_length.values)

plt.hist(result.null_distribution, bins=10)
plt.axvline(reference, color='red')
print('Permutation test pvalue={}'.format(result.pvalue))





mem_usage = (df[df.method == 'multi'].max_stack_capacity * df[df.method == 'multi'].state_size).max() + \
(df[df.method == 'multi'].max_set_size * df[df.method == 'multi'].state_size).max() + \
(df[df.method == 'multi'].n_states * df[df.method == 'multi'].state_size).max() + \
df[df.method == 'multi'].adj_list_compile.max() + df[df.method == 'multi'].stack_compile.max() + \
df[df.method == 'multi'].set_compile.max()

print('Estimated model checking memory usage: {} KB'.format(mem_usage * 8 / 1024))


df[df.method == 'multi'].shr_max.max() / 1024


df[df.method == 'multi'].res_max.max() - df[df.method == 'multi'].shr_max.max(), df[df.method == 'multi'].res_max.max() / 1024


2.9 / 992


2.9 / (4.3125 * 1024)


df[df.method == 'single'].shr_max.max() / 1024


(df[df.method == 'single'].res_max.max() - df[df.method == 'single'].shr_max.max()) / 1024, df[df.method == 'single'].res_max.max() / 1024





print(df.latency1.describe())


df.latency1.hist()


print(df.latency2.describe())


df.latency2.hist()


data = []

for i in range(len(df)):
    data.append(df.latency1.iloc[i])
    data.append(df.latency2.iloc[i])
    
df_latency = pd.DataFrame(data=data, columns=['latency'])
df_latency = df_latency.dropna(axis=0)
print(df_latency.head())


plt.hist(df_latency.latency)


normal_plot(df_latency.latency)


normal_test_battery(df_latency.latency)


stats.probplot(df_latency.latency, plot=plt, rvalue=True); plt.show()


print(df_latency.latency.describe())


result = stats.bootstrap((df_latency.latency, ), 
                          statistic=np.mean, 
                          n_resamples=100000,
                          confidence_level=0.95)

reference = df_latency.latency.mean()
plt.hist(result.bootstrap_distribution, bins=10)
plt.axvline(reference, color='red')
print(result.confidence_interval)





print(df.groupby(by='method').collisions.sum())


print(df.groupby(by=['position']).collisions.sum())


print(df[df.collisions == 1].traj_length)


single.traj_length.describe()


3 / 45



