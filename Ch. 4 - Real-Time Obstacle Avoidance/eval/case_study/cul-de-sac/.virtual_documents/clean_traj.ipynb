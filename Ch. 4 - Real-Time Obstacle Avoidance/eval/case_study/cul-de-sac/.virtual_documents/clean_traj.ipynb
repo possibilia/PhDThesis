


import os
import math
import json
import pandas as pd 
import matplotlib.pyplot as plt
from matplotlib import image as mpimg

cutoff = 290

with open('config.json') as infile:
    config = json.load(infile)
    
repo = config['laptop']





run = '0000'
collisions = 0

def show_trace(run, cutoff):
    fig ,ax = plt.subplots(1, 2, figsize=(10, 7))
    frame1 = mpimg.imread(repo+'/{}/{}_1stframe.png'.format(run, run))
    trace = mpimg.imread(repo+'/{}/{}_trace.png'.format(run, run))
    
    ax[0].imshow(frame1)
    ax[0].set_title('1st Frame')
    ax[0].hlines(y=cutoff, xmin=0, xmax=599, color='red')
    
    ax[1].imshow(trace)
    ax[1].set_title('Trace')
    ax[1].hlines(y=cutoff, xmin=0, xmax=599, color='red')
    
    plt.show()

show_trace(run, cutoff)


def load_data(run):
    df = pd.read_csv(repo+'/{}/{}_coord.txt'.format(run, run), 
                     sep='\t', index_col=[0], header=None)
    df = df.dropna(axis=0)
    print(df.shape)
    return df

df = load_data(run)


def draw_coords(df, cutoff):
    plt.Figure()
    plt.plot(df.x, df.y)
    plt.axhline(cutoff, color='red')
    plt.scatter(0, 0, color='w')
    plt.scatter(600, 775, color='w')
    plt.ylim(775, 0)
    plt.show()

df.columns = ['x', 'y']
draw_coords(df, cutoff)


df = df[df.y > cutoff]
draw_coords(df, cutoff)


def save_trajectory(df, run):
    df.to_csv(repo+'/{}/{}_coord.csv'.format(run, run))
    print('Saved to: <data repo>/{}/{}_coord.csv'.format(run, run))

save_trajectory(df, run)


def trajectory_length(df):
    d = 0
    for i in range(1, len(df)):
        x1, x2 = df.iloc[i-1, 0], df.iloc[i, 0]
        y1, y2 = df.iloc[i-1, 1], df.iloc[i, 1]
        d += math.sqrt((x2 - x1) ** 2 + (y2 - y1) ** 2)
    print('Trajectory length: {}'.format(d))
    return d

def save_run_data(run, traj_length, collisions):
    run_data = {
        'position': int(run[0]),
        'method': 'single' if run[1] == '0' else 'multi',
        'run': int(run[-2:]),
        'traj_length': traj_length,
        'collisions': collisions
    }
    
    for file in os.listdir(repo+'/{}'.format(run, run)):
        if file == '{}.json'.format(run):
            print('Data not overwritten')
            return
      
    print(run_data)
    with open(repo+'/{}/{}.json'.format(run, run), 'w') as outfile: 
        json.dump(run_data, outfile)
        
save_run_data(run, trajectory_length(df), collisions)





run = '0001'
collisions = 0
show_trace(run, cutoff)


df = load_data(run)


df.plot()


df = df.iloc[:, :2]
df.columns = ['x', 'y']
draw_coords(df, cutoff)


df = df[df.y > cutoff]
df.shape


draw_coords(df, cutoff)


save_trajectory(df, run)


save_run_data(run, trajectory_length(df), collisions)





run = '0002'
collisions = 0
show_trace(run, cutoff)


df = load_data(run)


df.columns = ['x', 'y']
draw_coords(df, cutoff)


df = df[df.y > cutoff]
draw_coords(df, cutoff)


save_trajectory(df, run)


save_run_data(run, trajectory_length(df), collisions)





run = '0003'
collisions = 1
show_trace(run, cutoff)


df = load_data(run)


df.columns = ['x', 'y']
draw_coords(df, cutoff)


df = df[df.y > cutoff]
draw_coords(df, cutoff)


save_trajectory(df, run)


save_run_data(run, trajectory_length(df), collisions)





run = '0004'
collisions = 0
show_trace(run, cutoff)


df = load_data(run)


df.columns = ['x', 'y']
draw_coords(df, cutoff)


df = df[df.y > cutoff]
draw_coords(df, cutoff)


save_trajectory(df, run)


save_run_data(run, trajectory_length(df), collisions)





run = '0005'
collisions = 0
show_trace(run, cutoff)


df = load_data(run)


df.columns = ['x', 'y']
draw_coords(df, cutoff)


df = df[df.y > cutoff]
draw_coords(df, cutoff)


save_trajectory(df, run)


save_run_data(run, trajectory_length(df), collisions)





run = '0006'
collisions = 0
show_trace(run, cutoff)


df = load_data(run)


df.columns = ['x', 'y']
draw_coords(df, cutoff)


df = df[df.y > cutoff]
draw_coords(df, cutoff)


save_trajectory(df, run)


save_run_data(run, trajectory_length(df), collisions)





run = '0007'
collisions = 0
show_trace(run, cutoff)


df = load_data(run)


df.columns = ['x', 'y']
draw_coords(df, cutoff)


df = df[df.y > cutoff]
draw_coords(df, cutoff)


save_trajectory(df, run)


save_run_data(run, trajectory_length(df), collisions)





run = '0008'
collisions = 0
show_trace(run, cutoff)


df = load_data(run)


df.columns = ['x', 'y']
draw_coords(df, cutoff)


df = df[df.y > cutoff]
draw_coords(df, cutoff)


save_trajectory(df, run)


save_run_data(run, trajectory_length(df), collisions)





run = '0009'
collisions = 0
show_trace(run, cutoff)


df = load_data(run)


df.columns = ['x', 'y']
draw_coords(df, cutoff)


df = df[df.y > cutoff]
draw_coords(df, cutoff)


save_trajectory(df, run)


save_run_data(run, trajectory_length(df), collisions)





run = '0010'
collisions = 0
show_trace(run, cutoff)


df = load_data(run)


df.columns = ['x', 'y']
draw_coords(df, cutoff)


df = df[df.y > cutoff]
draw_coords(df, cutoff)


save_trajectory(df, run)


save_run_data(run, trajectory_length(df), collisions)





run = '0011'
collisions = 0
show_trace(run, cutoff)


df = load_data(run)


df.columns = ['x', 'y']
draw_coords(df, cutoff)


df = df[df.y > cutoff]
draw_coords(df, cutoff)


save_trajectory(df, run)


save_run_data(run, trajectory_length(df), collisions)





run = '0012'
collisions = 0
show_trace(run, cutoff)


df = load_data(run)


df.columns = ['x', 'y']
draw_coords(df, cutoff)


df = df[df.y > cutoff]
draw_coords(df, cutoff)


save_trajectory(df, run)


save_run_data(run, trajectory_length(df), collisions)





run = '0013'
collisions = 0
show_trace(run, cutoff)


df = load_data(run)


df.columns = ['x', 'y']
draw_coords(df, cutoff)


df = df[df.y > cutoff]
draw_coords(df, cutoff)


save_trajectory(df, run)


save_run_data(run, trajectory_length(df), collisions)





run = '0014'
collisions = 0
show_trace(run, cutoff)


df = load_data(run)


df.columns = ['x', 'y']
draw_coords(df, cutoff)


df = df[df.y > cutoff]
draw_coords(df, cutoff)


save_trajectory(df, run)


save_run_data(run, trajectory_length(df), collisions)





run = '0100'
collisions = 0
show_trace(run, cutoff)


df = load_data(run)


df.columns = ['x', 'y']
draw_coords(df, cutoff)


df = df[df.y > cutoff]
draw_coords(df, cutoff)


save_trajectory(df, run)


save_run_data(run, trajectory_length(df), collisions)





run = '0101'
collisions = 0
show_trace(run, cutoff)


df = load_data(run)


df.columns = ['x', 'y']
draw_coords(df, cutoff)


df = df[df.y > cutoff]
draw_coords(df, cutoff)


save_trajectory(df, run)


save_run_data(run, trajectory_length(df), collisions)





run = '0102'
collisions = 0
show_trace(run, cutoff)


df = load_data(run)


df.columns = ['x', 'y']
draw_coords(df, cutoff)


df = df[df.y > cutoff]
draw_coords(df, cutoff)


save_trajectory(df, run)


save_run_data(run, trajectory_length(df), collisions)





run = '0103'
collisions = 0
show_trace(run, cutoff)


df = load_data(run)


df.columns = ['x', 'y']
draw_coords(df, cutoff)


df = df[df.y > cutoff]
draw_coords(df, cutoff)


save_trajectory(df, run)


save_run_data(run, trajectory_length(df), collisions)





run = '0104'
collisions = 0
show_trace(run, cutoff)


df = load_data(run)


df.columns = ['x', 'y']
draw_coords(df, cutoff)


df = df[df.y > cutoff]
draw_coords(df, cutoff)


save_trajectory(df, run)


save_run_data(run, trajectory_length(df), collisions)





run = '0105'
collisions = 0
show_trace(run, cutoff)


df = load_data(run)


df.columns = ['x', 'y']
draw_coords(df, cutoff)


df = df[df.y > cutoff]
draw_coords(df, cutoff)


save_trajectory(df, run)


save_run_data(run, trajectory_length(df), collisions)





run = '0106'
collisions = 0
show_trace(run, cutoff)


df = load_data(run)


df.columns = ['x', 'y']
draw_coords(df, cutoff)


df = df[df.y > cutoff]
draw_coords(df, cutoff)


save_trajectory(df, run)


save_run_data(run, trajectory_length(df), collisions)





run = '0107'
collisions = 0
show_trace(run, cutoff)


df = load_data(run)


df.columns = ['x', 'y']
draw_coords(df, cutoff)


df = df[df.y > cutoff]
draw_coords(df, cutoff)


save_trajectory(df, run)


save_run_data(run, trajectory_length(df), collisions)





run = '0108'
collisions = 0
show_trace(run, cutoff)


df = load_data(run)


df.columns = ['x', 'y']
draw_coords(df, cutoff)


df = df[df.y > cutoff]
draw_coords(df, cutoff)


save_trajectory(df, run)


save_run_data(run, trajectory_length(df), collisions)





run = '0109'
collisions = 0
show_trace(run, cutoff)


df = load_data(run)


df.plot()


df = df.iloc[:, -2:]
df.columns = ['x', 'y']
draw_coords(df, cutoff)


df = df[df.y > cutoff]
draw_coords(df, cutoff)


save_trajectory(df, run)


save_run_data(run, trajectory_length(df), collisions)





run = '0110'
collisions = 0
show_trace(run, cutoff)


df = load_data(run)


df.columns = ['x', 'y']
draw_coords(df, cutoff)


df = df[df.y > cutoff]
draw_coords(df, cutoff)


save_trajectory(df, run)


save_run_data(run, trajectory_length(df), collisions)





run = '0111'
collisions = 0
show_trace(run, cutoff)


df = load_data(run)


df.columns = ['x', 'y']
draw_coords(df, cutoff)


df = df[df.y > cutoff]
draw_coords(df, cutoff)


save_trajectory(df, run)


save_run_data(run, trajectory_length(df), collisions)





run = '0112'
collisions = 0
show_trace(run, cutoff)


df = load_data(run)


df.columns = ['x', 'y']
draw_coords(df, cutoff)


df = df[df.y > cutoff]
draw_coords(df, cutoff)


save_trajectory(df, run)


save_run_data(run, trajectory_length(df), collisions)





run = '0113'
collisions = 0
show_trace(run, cutoff)


df = load_data(run)


df.columns = ['x', 'y']
draw_coords(df, cutoff)


df = df[df.y > cutoff]
draw_coords(df, cutoff)


save_trajectory(df, run)


save_run_data(run, trajectory_length(df), collisions)





run = '0114'
collisions = 0
show_trace(run, cutoff)


df = load_data(run)


df.columns = ['x', 'y']
draw_coords(df, cutoff)


df = df[df.y > cutoff]
draw_coords(df, cutoff)


save_trajectory(df, run)


save_run_data(run, trajectory_length(df), collisions)





run = '1000'
collisions = 0
show_trace(run, cutoff)


df = load_data(run)


df.plot()


df = df.iloc[:, :2]
df.columns = ['x', 'y']
draw_coords(df, cutoff)


df = df[df.y > cutoff]
draw_coords(df, cutoff)


save_trajectory(df, run)


save_run_data(run, trajectory_length(df), collisions)





run = '1001'
collisions = 0
show_trace(run, cutoff)


df = load_data(run)


df.columns = ['x', 'y']
draw_coords(df, cutoff)


df = df[df.y > cutoff]
draw_coords(df, cutoff)


save_trajectory(df, run)


save_run_data(run, trajectory_length(df), collisions)





run = '1002'
collisions = 0
show_trace(run, cutoff)


df = load_data(run)


df.plot()


df = df[[5, 6]]
df.columns = ['x', 'y']
draw_coords(df, cutoff)


df = df[df.y > cutoff]
draw_coords(df, cutoff)


save_trajectory(df, run)


save_run_data(run, trajectory_length(df), collisions)





run = '1003'
collisions = 0
show_trace(run, cutoff)


df = load_data(run)


df.plot()


df = df.iloc[:, -2:]
df.columns = ['x', 'y']
draw_coords(df, cutoff)


df = df[df.y > cutoff]
draw_coords(df, cutoff)


save_trajectory(df, run)


save_run_data(run, trajectory_length(df), collisions)





run = '1004'
collisions = 0
show_trace(run, cutoff)


df = load_data(run)


df.plot()


df = df.iloc[:, :2]
df.columns = ['x', 'y']
draw_coords(df, cutoff)


df = df[df.y > cutoff]
draw_coords(df, cutoff)


save_trajectory(df, run)


save_run_data(run, trajectory_length(df), collisions)





run = '1005'
collisions = 0
show_trace(run, cutoff)


df = load_data(run)


df.plot()


df = df.iloc[:, :2]
df.columns = ['x', 'y']
draw_coords(df, cutoff)


df = df[df.y > cutoff]
draw_coords(df, cutoff)


save_trajectory(df, run)


save_run_data(run, trajectory_length(df), collisions)





run = '1006'
collisions = 0
show_trace(run, cutoff)


df = load_data(run)


df.plot()


df = df.iloc[:, :2]
df.columns = ['x', 'y']
draw_coords(df, cutoff)


df = df[df.y > cutoff]
draw_coords(df, cutoff)


save_trajectory(df, run)


save_run_data(run, trajectory_length(df), collisions)





run = '1007'
collisions = 0
show_trace(run, cutoff)


df = load_data(run)


df.plot()


df = df.iloc[:, :2]
df.columns = ['x', 'y']
draw_coords(df, cutoff)


df = df[df.y > cutoff]
draw_coords(df, cutoff)


save_trajectory(df, run)


save_run_data(run, trajectory_length(df), collisions)





run = '1008'
collisions = 0
show_trace(run, cutoff)


df = load_data(run)


df.plot()


df = df.iloc[:, -2:]
df.columns = ['x', 'y']
draw_coords(df, cutoff)


df = df[df.y > cutoff]
draw_coords(df, cutoff)


save_trajectory(df, run)


save_run_data(run, trajectory_length(df), collisions)





run = '1009'
collisions = 0
show_trace(run, cutoff)


df = load_data(run)


df.plot()


df = df.iloc[:, :2]
df.columns = ['x', 'y']
draw_coords(df, cutoff)


df = df[df.y > cutoff]
draw_coords(df, cutoff)


save_trajectory(df, run)


save_run_data(run, trajectory_length(df), collisions)





run = '1010'
collisions = 0
show_trace(run, cutoff)


df = load_data(run)


df.columns = ['x', 'y']
draw_coords(df, cutoff)


df = df[df.y > cutoff]
draw_coords(df, cutoff)


save_trajectory(df, run)


save_run_data(run, trajectory_length(df), collisions)





run = '1011'
collisions = 0
show_trace(run, cutoff)


df = load_data(run)


df.columns = ['x', 'y']
draw_coords(df, cutoff)


df = df[df.y > cutoff]
draw_coords(df, cutoff)


save_trajectory(df, run)


save_run_data(run, trajectory_length(df), collisions)





run = '1012'
collisions = 0
show_trace(run, cutoff)


df = load_data(run)


df.columns = ['x', 'y']
draw_coords(df, cutoff)


df = df[df.y > cutoff]
draw_coords(df, cutoff)


save_trajectory(df, run)


save_run_data(run, trajectory_length(df), collisions)





run = '1013'
collisions = 0
show_trace(run, cutoff)


df = load_data(run)


df.columns = ['x', 'y']
draw_coords(df, cutoff)


df = df[df.y > cutoff]
draw_coords(df, cutoff)


save_trajectory(df, run)


save_run_data(run, trajectory_length(df), collisions)





run = '1014'
collisions = 0
show_trace(run, cutoff)


df = load_data(run)


df.columns = ['x', 'y']
draw_coords(df, cutoff)


df = df[df.y > cutoff]
draw_coords(df, cutoff)


save_trajectory(df, run)


save_run_data(run, trajectory_length(df), collisions)





run = '1100'
collisions = 0
show_trace(run, cutoff)


df = load_data(run)


df.columns = ['x', 'y']
draw_coords(df, cutoff)


df = df[df.y > cutoff]
draw_coords(df, cutoff)


save_trajectory(df, run)


save_run_data(run, trajectory_length(df), collisions)





run = '1101'
collisions = 0
show_trace(run, cutoff)


df = load_data(run)


df.columns = ['x', 'y']
draw_coords(df, cutoff)


df = df[df.y > cutoff]
draw_coords(df, cutoff)


save_trajectory(df, run)


save_run_data(run, trajectory_length(df), collisions)





run = '1102'
collisions = 0
show_trace(run, cutoff)


df = load_data(run)


df.columns = ['x', 'y']
draw_coords(df, cutoff)


df = df[df.y > cutoff]
draw_coords(df, cutoff)


save_trajectory(df, run)


save_run_data(run, trajectory_length(df), collisions)





run = '1103'
collisions = 0
show_trace(run, cutoff)


df = load_data(run)


df.columns = ['x', 'y']
draw_coords(df, cutoff)


df = df[df.y > cutoff]
draw_coords(df, cutoff)


save_trajectory(df, run)


save_run_data(run, trajectory_length(df), collisions)





run = '1104'
collisions = 0
show_trace(run, cutoff)


df = load_data(run)


df.columns = ['x', 'y']
draw_coords(df, cutoff)


df = df[df.y > cutoff]
draw_coords(df, cutoff)


save_trajectory(df, run)


save_run_data(run, trajectory_length(df), collisions)





run = '1105'
collisions = 0
show_trace(run, cutoff)


df = load_data(run)


df.columns = ['x', 'y']
draw_coords(df, cutoff)


df= df[df.y > cutoff]
draw_coords(df, cutoff)


save_trajectory(df, run)


save_run_data(run, trajectory_length(df), collisions)





run = '1106'
collisions = 0
show_trace(run, cutoff)


df = load_data(run)


df.columns = ['x', 'y']
draw_coords(df, cutoff)


df = df[df.y > cutoff]
draw_coords(df, cutoff)


save_trajectory(df, run)


save_run_data(run, trajectory_length(df), collisions)





run = '1107'
collisions = 0
show_trace(run, cutoff)


df = load_data(run)


df.columns = ['x', 'y']
draw_coords(df, cutoff)


df = df[df.y > cutoff]
draw_coords(df, cutoff)


save_trajectory(df, run)


save_run_data(run, trajectory_length(df), collisions)





run = '1108'
collisions = 0
show_trace(run, cutoff)


df = load_data(run)


df.columns = ['x', 'y']
draw_coords(df, cutoff)


df = df[df.y > cutoff]
draw_coords(df, cutoff)


save_trajectory(df, run)


save_run_data(run, trajectory_length(df), collisions)





run = '1109'
collisions = 0
show_trace(run, cutoff)


df = load_data(run)


df.columns = ['x', 'y']
draw_coords(df, cutoff)


df = df[df.y > cutoff]
draw_coords(df, cutoff)


save_trajectory(df, run)


save_run_data(run, trajectory_length(df), collisions)





run = '1110'
collisions = 0
show_trace(run, cutoff)


df = load_data(run)


df.columns = ['x', 'y']
draw_coords(df, cutoff)


df = df[df.y > cutoff]
draw_coords(df, cutoff)


save_trajectory(df, run)


save_run_data(run, trajectory_length(df), collisions)





run = '1111'
collisions = 0
show_trace(run, cutoff)


df = load_data(run)


df.columns = ['x', 'y']
draw_coords(df, cutoff)


df = df[df.y > cutoff]
draw_coords(df, cutoff)


save_trajectory(df, run)


save_run_data(run, trajectory_length(df), collisions)





run = '1112'
collisions = 0
show_trace(run, cutoff)


df = load_data(run)


df.columns = ['x', 'y']
draw_coords(df, cutoff)


df = df[df.y > cutoff]
draw_coords(df, cutoff)


save_trajectory(df, run)


save_run_data(run, trajectory_length(df), collisions)





run = '1113'
collisions = 0
show_trace(run, cutoff)


df = load_data(run)


df.columns = ['x', 'y']
draw_coords(df, cutoff)


df = df[df.y > cutoff]
draw_coords(df, cutoff)


save_trajectory(df, run)


save_run_data(run, trajectory_length(df), collisions)





run = '1114'
collisions = 0
show_trace(run, cutoff)


df = load_data(run)


df.columns = ['x', 'y']
draw_coords(df, cutoff)


df = df[df.y > cutoff]
draw_coords(df, cutoff)


save_trajectory(df, run)


save_run_data(run, trajectory_length(df), collisions)





run = '2000'
collisions = 0
show_trace(run, cutoff)


df = load_data(run)


df.columns = ['x', 'y']
draw_coords(df, cutoff)


df = df[df.y > cutoff]
draw_coords(df, cutoff)


save_trajectory(df, run)


save_run_data(run, trajectory_length(df), collisions)





run = '2001'
collisions = 0
show_trace(run, cutoff)


df = load_data(run)


df.plot()


df = df[[3, 4]]
df.columns = ['x', 'y']
draw_coords(df, cutoff)


df = df[df.y > cutoff]
draw_coords(df, cutoff)


save_trajectory(df, run)


save_run_data(run, trajectory_length(df), collisions)





run = '2002'
collisions = 1
show_trace(run, cutoff)


df = load_data(run)


df.columns = ['x', 'y']
draw_coords(df, cutoff)


df = df[df.y > cutoff]
draw_coords(df, cutoff)


save_trajectory(df, run)


save_run_data(run, trajectory_length(df), collisions)





run = '2003'
collisions = 0
show_trace(run, cutoff)


df = load_data(run)


df.plot()


df = df.iloc[:, :2]
df.columns = ['x', 'y']
draw_coords(df, cutoff)


df = df[df.y > cutoff]
draw_coords(df, cutoff)


save_trajectory(df, run)


save_run_data(run, trajectory_length(df), collisions)





run = '2004'
collisions = 0
show_trace(run, cutoff)


df = load_data(run)


df.columns = ['x', 'y']
draw_coords(df, cutoff)


df = df[df.y > cutoff]
draw_coords(df, cutoff)


save_trajectory(df, run)


save_run_data(run, trajectory_length(df), collisions)





run = '2005'
collisions = 0
show_trace(run, cutoff)


df = load_data(run)


df.plot()


df = df.iloc[:, :2]
df.columns = ['x', 'y']
draw_coords(df, cutoff)


df = df[df.y > cutoff]
draw_coords(df, cutoff)


save_trajectory(df, run)


save_run_data(run, trajectory_length(df), collisions)





run = '2006'
collisions = 1
show_trace(run, cutoff)


df = load_data(run)


df.columns = ['x', 'y']
draw_coords(df, cutoff)


df = df[df.y > cutoff]
draw_coords(df, cutoff)


save_trajectory(df, run)


save_run_data(run, trajectory_length(df), collisions)





run = '2007'
collisions = 0
show_trace(run, cutoff)


df = load_data(run)


df.plot()


df = df.iloc[:, :2]
df.columns = ['x', 'y']
draw_coords(df, cutoff)


df = df[df.y > cutoff]
draw_coords(df, cutoff)


save_trajectory(df, run)


save_run_data(run, trajectory_length(df), collisions)





run = '2008'
collisions = 0
show_trace(run, cutoff)


df = load_data(run)


df.columns = ['x', 'y']
draw_coords(df, cutoff)


df = df[df.y > cutoff]
draw_coords(df, cutoff)


save_trajectory(df, run)


save_run_data(run, trajectory_length(df), collisions)





run = '2009'
collisions = 0
show_trace(run, cutoff)


df = load_data(run)


df.plot()


df = df.iloc[:, :2]
df.columns = ['x', 'y']
draw_coords(df, cutoff)


df = df[df.y > cutoff]
draw_coords(df, cutoff)


save_trajectory(df, run)


save_run_data(run, trajectory_length(df), collisions)





run = '2010'
collisions = 0
show_trace(run, cutoff)


df = load_data(run)


df.columns = ['x', 'y']
draw_coords(df, cutoff)


df = df[df.y > cutoff]
draw_coords(df, cutoff)


save_trajectory(df, run)


save_run_data(run, trajectory_length(df), collisions)





run = '2011'
collisions = 0
show_trace(run, cutoff)


df = load_data(run)


df.columns = ['x', 'y']
draw_coords(df, cutoff)


df = df[df.y > cutoff]
draw_coords(df, cutoff)


save_trajectory(df, run)


save_run_data(run, trajectory_length(df), collisions)





run = '2012'
collisions = 0
show_trace(run, cutoff)


df = load_data(run)


df.columns = ['x', 'y']
draw_coords(df, cutoff)


df = df[df.y > cutoff]
draw_coords(df, cutoff)


save_trajectory(df, run)


save_run_data(run, trajectory_length(df), collisions)





run = '2013'
collisions = 0
show_trace(run, cutoff)


df = load_data(run)


df.columns = ['x', 'y']
draw_coords(df, cutoff)


df = df[df.y > cutoff]
draw_coords(df, cutoff)


save_trajectory(df, run)


save_run_data(run, trajectory_length(df), collisions)





run = '2014'
collisions = 0
show_trace(run, cutoff)


df = load_data(run)


df.columns = ['x', 'y']
draw_coords(df, cutoff)


df = df[df.y > cutoff]
draw_coords(df, cutoff)


save_trajectory(df, run)


save_run_data(run, trajectory_length(df), collisions)





run = '2100'
collisions = 0
show_trace(run, cutoff)


df = load_data(run)


df.columns = ['x', 'y']
draw_coords(df, cutoff)


df = df[df.y > cutoff]
draw_coords(df, cutoff)


save_trajectory(df, run)


save_run_data(run, trajectory_length(df), collisions)





run = '2101'
collisions = 0
show_trace(run, cutoff)


df = load_data(run)


df.columns = ['x', 'y']
draw_coords(df, cutoff)


df = df[df.y > cutoff]
draw_coords(df, cutoff)


save_trajectory(df, run)


save_run_data(run, trajectory_length(df), collisions)





run = '2102'
collisions = 0
show_trace(run, cutoff)


df = load_data(run)


df.columns = ['x', 'y']
draw_coords(df, cutoff)


df = df[df.y > cutoff]
draw_coords(df, cutoff)


save_trajectory(df, run)


save_run_data(run, trajectory_length(df), collisions)





run = '2103'
collisions = 0
show_trace(run, cutoff)


df = load_data(run)


df.columns = ['x', 'y']
draw_coords(df, cutoff)


df = df[df.y > cutoff]
draw_coords(df, cutoff)


save_trajectory(df, run)


save_run_data(run, trajectory_length(df), collisions)





run = '2104'
collisions = 0
show_trace(run, cutoff)


df = load_data(run)


df.columns = ['x', 'y']
draw_coords(df, cutoff)


df = df[df.y > cutoff]
draw_coords(df, cutoff)


save_trajectory(df, run)


save_run_data(run, trajectory_length(df), collisions)





run = '2105'
collisions = 0
show_trace(run, cutoff)


df = load_data(run)


df.columns = ['x', 'y']
draw_coords(df, cutoff)


df = df[df.y > cutoff]
draw_coords(df, cutoff)


save_trajectory(df, run)


save_run_data(run, trajectory_length(df), collisions)





run = '2106'
collisions = 0
show_trace(run, cutoff)


df = load_data(run)


df.columns = ['x', 'y']
draw_coords(df, cutoff)


df = df[df.y > cutoff]
draw_coords(df, cutoff)


save_trajectory(df, run)


save_run_data(run, trajectory_length(df), collisions)





run = '2107'
collisions = 0
show_trace(run, cutoff)


df = load_data(run)


df.columns = ['x', 'y']
draw_coords(df, cutoff)


df = df[df.y > cutoff]
draw_coords(df, cutoff)


save_trajectory(df, run)


save_run_data(run, trajectory_length(df), collisions)





run = '2108'
collisions = 0
show_trace(run, cutoff)


df = load_data(run)


df.columns = ['x', 'y']
draw_coords(df, cutoff)


df = df[df.y > cutoff]
draw_coords(df, cutoff)


save_trajectory(df, run)


save_run_data(run, trajectory_length(df), collisions)





run = '2109'
collisions = 0
show_trace(run, cutoff)


df = load_data(run)


df.columns = ['x', 'y']
draw_coords(df, cutoff)


df = df[df.y > cutoff]
draw_coords(df, cutoff)


save_trajectory(df, run)


save_run_data(run, trajectory_length(df), collisions)





run = '2110'
collisions = 0
show_trace(run, cutoff)


df = load_data(run)


df.columns = ['x', 'y']
draw_coords(df, cutoff)


df = df[df.y > cutoff]
draw_coords(df, cutoff)


save_trajectory(df, run)


save_run_data(run, trajectory_length(df), collisions)





run = '2111'
collisions = 0
show_trace(run, cutoff)


df = load_data(run)


df.columns = ['x', 'y']
draw_coords(df, cutoff)


df = df[df.y > cutoff]
draw_coords(df, cutoff)


save_trajectory(df, run)


save_run_data(run, trajectory_length(df), collisions)





run = '2112'
collisions = 0
show_trace(run, cutoff)


df = load_data(run)


df.columns = ['x', 'y']
draw_coords(df, cutoff)


df = df[df.y > cutoff]
draw_coords(df, cutoff)


save_trajectory(df, run)


save_run_data(run, trajectory_length(df), collisions)





run = '2113'
collisions = 0
show_trace(run, cutoff)


df = load_data(run)


df.columns = ['x', 'y']
draw_coords(df, cutoff)


df = df[df.y > cutoff]
draw_coords(df, cutoff)


save_trajectory(df, run)


save_run_data(run, trajectory_length(df), collisions)





run = '2114'
collisions = 0
show_trace(run, cutoff)


df = load_data(run)


df.columns = ['x', 'y']
draw_coords(df, cutoff)


df = df[df.y > cutoff]
draw_coords(df, cutoff)


save_trajectory(df, run)


save_run_data(run, trajectory_length(df), collisions)
